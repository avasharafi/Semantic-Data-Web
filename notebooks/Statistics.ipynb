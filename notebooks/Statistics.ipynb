{
 "cells": [
  {
   "cell_type": "code",
   "execution_count": 3,
   "metadata": {},
   "outputs": [],
   "source": [
    "from SPARQLWrapper import SPARQLWrapper, JSON, CSV\n",
    "import pandas as pd\n",
    "import json\n",
    "from jupyter_dash import JupyterDash\n",
    "from dash.dependencies import Input, Output, State\n",
    "import dash_table\n",
    "import dash\n",
    "import pandas as pd\n",
    "from ipynb.fs.full.MainApp import app"
   ]
  },
  {
   "cell_type": "code",
   "execution_count": 4,
   "metadata": {},
   "outputs": [],
   "source": [
    "#---------------------------------------------------Statistics Function---------------------------------------------------------------\n",
    "#function to listen to submit button and take textarea content\n",
    "def statistics_function(n_clicks, value,endpoint,endpointType):\n",
    "    if n_clicks > 0:\n",
    "        return nsql(value,endpoint,endpointType)\n",
    "\n",
    "#Query the endpoint\n",
    "def get_results(value,endpoint,endpointType):\n",
    "    if endpointType == '1':\n",
    "            g = rdflib.Graph()\n",
    "            g.parse(\"../data/karl.n3\", format=rdflib.util.guess_format(\"../data/karl.n3\"))\n",
    "            qres = g.query(value)\n",
    "            ResultListdataframe = pd.DataFrame (qres.bindings)\n",
    "            return ResultListdataframe.to_json(date_format='iso', orient='split')\n",
    "    else:\n",
    "        sparql = SPARQLWrapper(endpoint)\n",
    "        sparql.setQuery(value)\n",
    "        sparql.setReturnFormat(JSON)\n",
    "        return sparql.query().convert()\n",
    "\n",
    "#Get the number of records\n",
    "def nsql(value,endpoint,endpointType):\n",
    "    results = get_results(value,endpoint,endpointType)\n",
    "    txt = \"Number of records found: \"\n",
    "    for result in results[\"results\"][\"bindings\"]:\n",
    "        length = len(results[\"results\"][\"bindings\"])\n",
    "    return txt, length\n",
    "\n",
    "#---------------------------------------------------Statistics Callback---------------------------------------------------------------\n",
    "#@app.callback(\n",
    "#    Output(\"records-size\", \"children\"),\n",
    "#    [Input(\"submit-btn\", \"n_clicks\")],\n",
    "#    [State(\"query-text\",\"value\"), State(\"query-endpoint\",\"value\"),State(\"endpoint-query1-type\", \"title\")]\n",
    "#)\n",
    "#def statistics(n_clicks, value,endpoint,endpointType):\n",
    "#    if n_clicks > 0 :\n",
    "#        if endpointType == '2':\n",
    "#            return statistics_function(n_clicks, value,endpoint,endpointType)\n",
    "#        else:\n",
    "#            '',''\n",
    "\n",
    "#---------------------------------------------------Statistics Compare Callback---------------------------------------------------------------\n",
    "#@app.callback(\n",
    "#    Output(\"records-size2\", \"children\"),\n",
    "#    [Input(\"compare-btn\", \"n_clicks\")],\n",
    "#    [State(\"query-text2\",\"value\"), State(\"query-endpoint2\",\"value\"),State(\"endpoint-query2-type\", \"title\")]\n",
    "#)\n",
    "#def statistics(n_clicks, value,endpoint,endpointType):\n",
    "#    if endpointType == '2':\n",
    "#        return statistics_function(n_clicks, value,endpoint,endpointType)\n",
    "#    else:\n",
    "#        '',''\n"
   ]
  },
  {
   "cell_type": "code",
   "execution_count": null,
   "metadata": {},
   "outputs": [],
   "source": []
  }
 ],
 "metadata": {
  "kernelspec": {
   "display_name": "Python 3",
   "language": "python",
   "name": "python3"
  },
  "language_info": {
   "codemirror_mode": {
    "name": "ipython",
    "version": 3
   },
   "file_extension": ".py",
   "mimetype": "text/x-python",
   "name": "python",
   "nbconvert_exporter": "python",
   "pygments_lexer": "ipython3",
   "version": "3.7.6"
  }
 },
 "nbformat": 4,
 "nbformat_minor": 4
}
